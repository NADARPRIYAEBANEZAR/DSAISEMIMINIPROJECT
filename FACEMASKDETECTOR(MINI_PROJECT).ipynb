{
  "nbformat": 4,
  "nbformat_minor": 0,
  "metadata": {
    "kernelspec": {
      "display_name": "Python 3",
      "language": "python",
      "name": "python3"
    },
    "language_info": {
      "codemirror_mode": {
        "name": "ipython",
        "version": 3
      },
      "file_extension": ".py",
      "mimetype": "text/x-python",
      "name": "python",
      "nbconvert_exporter": "python",
      "pygments_lexer": "ipython3",
      "version": "3.8.5"
    },
    "colab": {
      "name": "FACEMASKDETECTOR(MINI_PROJECT).ipynb",
      "provenance": [],
      "include_colab_link": true
    }
  },
  "cells": [
    {
      "cell_type": "markdown",
      "metadata": {
        "id": "view-in-github",
        "colab_type": "text"
      },
      "source": [
        "<a href=\"https://colab.research.google.com/github/NADARPRIYAEBANEZAR/DSAISEMIMINIPROJECT/blob/main/FACEMASKDETECTOR(MINI_PROJECT).ipynb\" target=\"_parent\"><img src=\"https://colab.research.google.com/assets/colab-badge.svg\" alt=\"Open In Colab\"/></a>"
      ]
    },
    {
      "cell_type": "code",
      "metadata": {
        "id": "RXF6dwCWNRcC",
        "outputId": "2d8c9bcf-f35c-4e8f-b505-892d7f1f5afa"
      },
      "source": [
        "print(\" MINI PROJECT \\n\")\n",
        "print(\" FACE MASK DETECTOR \\n\")\n"
      ],
      "execution_count": null,
      "outputs": [
        {
          "output_type": "stream",
          "text": [
            " MINI PROJECT \n",
            "\n",
            " FACE MASK DETECTOR \n",
            "\n"
          ],
          "name": "stdout"
        }
      ]
    },
    {
      "cell_type": "code",
      "metadata": {
        "id": "ecNfWBAwNRcW"
      },
      "source": [
        "#Import all the necessary packages"
      ],
      "execution_count": null,
      "outputs": []
    },
    {
      "cell_type": "code",
      "metadata": {
        "id": "xzdbcsdlNRcY"
      },
      "source": [
        "#This module provides a portable way of using operating system-dependent functionality. \n",
        "#The *os* and *os.path* modules include many functions to interact with the file system.\n",
        "import os"
      ],
      "execution_count": null,
      "outputs": []
    },
    {
      "cell_type": "code",
      "metadata": {
        "id": "jP6-eaqQNRca"
      },
      "source": [
        "#Function for loading an image from file as a PIL image object.\n",
        "from tensorflow.keras.preprocessing.image import load_img"
      ],
      "execution_count": null,
      "outputs": []
    },
    {
      "cell_type": "code",
      "metadata": {
        "id": "V3F8z2TbNRcb"
      },
      "source": [
        "#Converts a PIL Image instance to a Numpy array.\n",
        "from tensorflow.keras.preprocessing.image import img_to_array"
      ],
      "execution_count": null,
      "outputs": []
    },
    {
      "cell_type": "code",
      "metadata": {
        "id": "X2IFmhm9NRcb"
      },
      "source": [
        "#Converts into categorical variable.\n",
        "from sklearn.preprocessing import LabelBinarizer"
      ],
      "execution_count": null,
      "outputs": []
    },
    {
      "cell_type": "code",
      "metadata": {
        "id": "bei1yQnINRcc"
      },
      "source": [
        "#Using the method to_categorical(), a numpy array (or) a vector which has integers \n",
        "#that represent different categories, can be converted into a numpy array.\n",
        "from tensorflow.keras.utils import to_categorical"
      ],
      "execution_count": null,
      "outputs": []
    },
    {
      "cell_type": "code",
      "metadata": {
        "id": "MdjY1XsJNRcd"
      },
      "source": [
        "#NumPy is a Python library used for working with arrays.\n",
        "import numpy as np"
      ],
      "execution_count": null,
      "outputs": []
    },
    {
      "cell_type": "code",
      "metadata": {
        "id": "2U16ytAENRce"
      },
      "source": [
        "#train_test_split is a function in Sklearn model selection for splitting data arrays into two subsets: \n",
        "#for training data and for testing data.\n",
        "from sklearn.model_selection import train_test_split"
      ],
      "execution_count": null,
      "outputs": []
    },
    {
      "cell_type": "code",
      "metadata": {
        "id": "k5o8uC1aNRcf"
      },
      "source": [
        "#Used to calculate confusion_matrix and accuracy_score\n",
        "#confusion_matrix : A confusion matrix is a technique for summarizing the performance of a classification algorithm.\n",
        "#accuracy_score :  It is the number of correct predictions made divided by the total number of predictions made.\n",
        "from sklearn.metrics import confusion_matrix, accuracy_score"
      ],
      "execution_count": null,
      "outputs": []
    },
    {
      "cell_type": "code",
      "metadata": {
        "id": "AKV1wUNgNRcg"
      },
      "source": [
        "#Module used to implement logistic regression.\n",
        "from sklearn.linear_model import LogisticRegression "
      ],
      "execution_count": null,
      "outputs": []
    },
    {
      "cell_type": "code",
      "metadata": {
        "id": "g43mcViZNRch"
      },
      "source": [
        "#The sklearn.svm module includes Support Vector Machine algorithms.\n",
        "from sklearn.svm import SVC"
      ],
      "execution_count": null,
      "outputs": []
    },
    {
      "cell_type": "code",
      "metadata": {
        "id": "uvvFrEqnNRci"
      },
      "source": [
        "#sklearn.neighbors provides functionality for unsupervised and supervised neighbors-based learning methods. \n",
        "from sklearn.neighbors import KNeighborsClassifier  "
      ],
      "execution_count": null,
      "outputs": []
    },
    {
      "cell_type": "code",
      "metadata": {
        "id": "eGvjpzQiNRci"
      },
      "source": [
        "#The sklearn.naive_bayes module implements Naive Bayes algorithms. \n",
        "from sklearn.naive_bayes import GaussianNB "
      ],
      "execution_count": null,
      "outputs": []
    },
    {
      "cell_type": "code",
      "metadata": {
        "id": "Z1akKqMvNRcj"
      },
      "source": [
        "#The sklearn.tree module includes decision tree-based models for classification and regression.\n",
        "from sklearn.tree import DecisionTreeClassifier"
      ],
      "execution_count": null,
      "outputs": []
    },
    {
      "cell_type": "code",
      "metadata": {
        "id": "BXJvFNTSNRck"
      },
      "source": [
        "#The sklearn.ensemble module includes ensemble-based methods for classification, regression and anomaly detection.\n",
        "from sklearn.ensemble import RandomForestClassifier"
      ],
      "execution_count": null,
      "outputs": []
    },
    {
      "cell_type": "code",
      "metadata": {
        "id": "RgEm3EMJNRck"
      },
      "source": [
        "#Pyplot is a collection of functions in the popular visualization package Matplotlib. \n",
        "import matplotlib.pyplot as plt"
      ],
      "execution_count": null,
      "outputs": []
    },
    {
      "cell_type": "code",
      "metadata": {
        "id": "rR_THypONRcl"
      },
      "source": [
        "#Load OpenCv package\n",
        "import cv2"
      ],
      "execution_count": null,
      "outputs": []
    },
    {
      "cell_type": "code",
      "metadata": {
        "id": "s87Vt1I9NRcl"
      },
      "source": [
        "#Load the data\n",
        "DIRECTORY = r\"C:\\Users\\Priya\\Documents\\PRIYAMSC\\MINIPROJECT\\dataset\"\n",
        "CATEGORIES = [\"with_mask\", \"without_mask\"]"
      ],
      "execution_count": null,
      "outputs": []
    },
    {
      "cell_type": "code",
      "metadata": {
        "id": "YKs12muKNRcm"
      },
      "source": [
        "#Grab the list of images in our dataset directory, then initialize\n",
        "#the list of data (i.e., images) and class images\n",
        "data = []\n",
        "labels = []\n",
        "for category in CATEGORIES:\n",
        "    path = os.path.join(DIRECTORY, category)\n",
        "    for img in os.listdir(path):\n",
        "        img_path = os.path.join(path, img)\n",
        "        image = load_img(img_path, target_size=(224, 224))\n",
        "        image = img_to_array(image)\n",
        "        data.append(image)\n",
        "        labels.append(category)"
      ],
      "execution_count": null,
      "outputs": []
    },
    {
      "cell_type": "code",
      "metadata": {
        "id": "nXl-CDvCNRco"
      },
      "source": [
        "#Perform one-hot encoding on the labels.\n",
        "lb = LabelBinarizer()\n",
        "labels = lb.fit_transform(labels)\n",
        "labels = to_categorical(labels)\n",
        "data = np.array(data, dtype=\"float32\")\n",
        "labels = np.array(labels)"
      ],
      "execution_count": null,
      "outputs": []
    },
    {
      "cell_type": "code",
      "metadata": {
        "id": "E0sTuxE4NRcq",
        "outputId": "4f63b00a-1eee-4f69-9022-e76a027f3cff"
      },
      "source": [
        "#Return a tuple representing the dimensionality of the Data.\n",
        "data.shape"
      ],
      "execution_count": null,
      "outputs": [
        {
          "output_type": "execute_result",
          "data": {
            "text/plain": [
              "(1376, 224, 224, 3)"
            ]
          },
          "metadata": {
            "tags": []
          },
          "execution_count": 74
        }
      ]
    },
    {
      "cell_type": "code",
      "metadata": {
        "id": "8tsPP35gNRcr"
      },
      "source": [
        "#Gives a new shape the data without changing its data.\n",
        "data=data.reshape(1376,224*224*3)"
      ],
      "execution_count": null,
      "outputs": []
    },
    {
      "cell_type": "code",
      "metadata": {
        "id": "EElVyaaPNRcr",
        "outputId": "c8edabed-9e7d-4c54-e4f3-d353b4c6b935"
      },
      "source": [
        "#To check whether the shape is changed or not.\n",
        "data.shape"
      ],
      "execution_count": null,
      "outputs": [
        {
          "output_type": "execute_result",
          "data": {
            "text/plain": [
              "(1376, 150528)"
            ]
          },
          "metadata": {
            "tags": []
          },
          "execution_count": 76
        }
      ]
    },
    {
      "cell_type": "code",
      "metadata": {
        "id": "jdqvIL24NRcs"
      },
      "source": [
        "#Return a new array of given shape and type, filled with zeros.\n",
        "labels=np.zeros(data.shape[0])"
      ],
      "execution_count": null,
      "outputs": []
    },
    {
      "cell_type": "code",
      "metadata": {
        "id": "QMn8clg4NRct"
      },
      "source": [
        "#First 690 indexes as 0's and rest all undexes as 1's.\n",
        "labels[690:]=1.0"
      ],
      "execution_count": null,
      "outputs": []
    },
    {
      "cell_type": "code",
      "metadata": {
        "id": "iGHuI36TNRct"
      },
      "source": [
        "#0's belong to faces with MASK.\n",
        "#1's belong to faces WITHOUT_MASK.\n",
        "names={0:'WITH_MASK',1:'WITHOUT_MASK'}"
      ],
      "execution_count": null,
      "outputs": []
    },
    {
      "cell_type": "code",
      "metadata": {
        "id": "I4osAnddNRcu"
      },
      "source": [
        "#Splitting the dataset into the Training set and Test set. \n",
        "xtrain, xtest, ytrain, ytest = train_test_split(data,labels, test_size = 0.25) "
      ],
      "execution_count": null,
      "outputs": []
    },
    {
      "cell_type": "code",
      "metadata": {
        "id": "_lFfIKGgNRcu",
        "outputId": "86c7d900-29f3-4e26-fa69-5751d388900f"
      },
      "source": [
        "#To see the shape of xtrain\n",
        "xtrain.shape"
      ],
      "execution_count": null,
      "outputs": [
        {
          "output_type": "execute_result",
          "data": {
            "text/plain": [
              "(1032, 150528)"
            ]
          },
          "metadata": {
            "tags": []
          },
          "execution_count": 81
        }
      ]
    },
    {
      "cell_type": "code",
      "metadata": {
        "id": "c1rR6weyNRcv",
        "outputId": "cac48e1d-6ca4-4bec-dd71-569a2618e4f4"
      },
      "source": [
        "#Logistic Regression\n",
        "# Fitting Logistic regression to the Training set  \n",
        "classifierlin = LogisticRegression() \n",
        "classifierlin.fit(xtrain, ytrain)\n",
        "# Predicting the Test set results  \n",
        "y_pred = classifierlin.predict(xtest) \n",
        "# Making the Confusion Matrix  \n",
        "result = confusion_matrix(ytest, y_pred)\n",
        "print(\"Confusion Matrix of Logistic Regression :\")\n",
        "print(result)\n",
        "#Calculating the accuracy\n",
        "resultLR = accuracy_score(ytest,y_pred)*100\n",
        "print(\"Accuracy of Logistic Regression (in %) :\",resultLR)"
      ],
      "execution_count": null,
      "outputs": [
        {
          "output_type": "stream",
          "text": [
            "C:\\Users\\Priya\\anaconda31\\lib\\site-packages\\sklearn\\linear_model\\_logistic.py:762: ConvergenceWarning: lbfgs failed to converge (status=1):\n",
            "STOP: TOTAL NO. of ITERATIONS REACHED LIMIT.\n",
            "\n",
            "Increase the number of iterations (max_iter) or scale the data as shown in:\n",
            "    https://scikit-learn.org/stable/modules/preprocessing.html\n",
            "Please also refer to the documentation for alternative solver options:\n",
            "    https://scikit-learn.org/stable/modules/linear_model.html#logistic-regression\n",
            "  n_iter_i = _check_optimize_result(\n"
          ],
          "name": "stderr"
        },
        {
          "output_type": "stream",
          "text": [
            "Confusion Matrix of Logistic Regression :\n",
            "[[160  13]\n",
            " [ 13 158]]\n",
            "Accuracy of Logistic Regression (in %) : 92.44186046511628\n"
          ],
          "name": "stdout"
        }
      ]
    },
    {
      "cell_type": "code",
      "metadata": {
        "id": "wVIEUjVTNRcx",
        "outputId": "c874f1c7-fa27-400c-d1db-c9f2aa7aa265"
      },
      "source": [
        "#Support Vector Machine (SVM)\n",
        "# Fitting SVM to the Training set \n",
        "svm=SVC()\n",
        "svm.fit(xtrain,ytrain)\n",
        "# Predicting the Test set results  \n",
        "y_pred=svm.predict(xtest)\n",
        "result = confusion_matrix(ytest, y_pred)\n",
        "# Making the Confusion Matrix \n",
        "print(\"Confusion Matrix of SVM :\")\n",
        "print(result)\n",
        "#Calculating the accuracy\n",
        "resultSVM = accuracy_score(ytest,y_pred)*100\n",
        "print(\"Accuracy of SVM (in %):\",resultSVM)"
      ],
      "execution_count": null,
      "outputs": [
        {
          "output_type": "stream",
          "text": [
            "Confusion Matrix of SVM :\n",
            "[[159  14]\n",
            " [  9 162]]\n",
            "Accuracy of SVM (in %): 93.31395348837209\n"
          ],
          "name": "stdout"
        }
      ]
    },
    {
      "cell_type": "code",
      "metadata": {
        "id": "s820dnKXNRcz",
        "outputId": "ded39995-2b81-4ced-ef50-54148e170fa2"
      },
      "source": [
        "#K-Nearest  Neighbour(KNN)\n",
        "# Fitting KNN to the Training set \n",
        "classifierk= KNeighborsClassifier(n_neighbors=5, metric='minkowski', p=2 )  \n",
        "classifierk.fit(xtrain, ytrain)\n",
        "# Predicting the Test set results  \n",
        "y_pred= classifierk.predict(xtest)  \n",
        "# Making the Confusion Matrix \n",
        "result = confusion_matrix(ytest, y_pred)\n",
        "print(\"Confusion Matrix of K-nearest neighbour :\")\n",
        "print(result)\n",
        "#Calculating the accuracy\n",
        "resultknn = accuracy_score(ytest,y_pred)*100\n",
        "print(\"Accuracy of K-nearest neighbour (in %) :\",resultknn)"
      ],
      "execution_count": null,
      "outputs": [
        {
          "output_type": "stream",
          "text": [
            "Confusion Matrix of K-nearest neighbour :\n",
            "[[128  45]\n",
            " [ 18 153]]\n",
            "Accuracy of K-nearest neighbour (in %) : 81.68604651162791\n"
          ],
          "name": "stdout"
        }
      ]
    },
    {
      "cell_type": "code",
      "metadata": {
        "id": "9kCkg9JvNRc1",
        "outputId": "38af6d58-37ce-4b62-801d-b2dcd008da83"
      },
      "source": [
        "#Naive Bayes (NB)\n",
        "# Fitting Naive Bayes to the Training set \n",
        "classifiern = GaussianNB()  \n",
        "classifiern.fit(xtrain, ytrain) \n",
        "# Predicting the Test set results\n",
        "y_pred = classifiern.predict(xtest)\n",
        "# Making the Confusion Matrix \n",
        "result = confusion_matrix(ytest, y_pred)\n",
        "print(\"Confusion Matrix of Naive Bayes:\")\n",
        "print(result)\n",
        "#Calculating the accuracy\n",
        "resultNB = accuracy_score(ytest,y_pred)*100\n",
        "print(\"Accuracy of Naive Bayes (in %) :\",resultNB)"
      ],
      "execution_count": null,
      "outputs": [
        {
          "output_type": "stream",
          "text": [
            "Confusion Matrix of Naive Bayes:\n",
            "[[138  35]\n",
            " [ 27 144]]\n",
            "Accuracy of Naive Bayes (in %) : 81.97674418604652\n"
          ],
          "name": "stdout"
        }
      ]
    },
    {
      "cell_type": "code",
      "metadata": {
        "id": "1rh_NV_NNRc2",
        "outputId": "fa01e057-9680-4bc4-8f3e-75cd8cc8a811"
      },
      "source": [
        "#Decision Tree (DT)\n",
        "# Fitting Decision Tree classification to the Training set\n",
        "clf = DecisionTreeClassifier()\n",
        "clf = clf.fit(xtrain,ytrain)\n",
        "# Predicting the Test set results\n",
        "y_pred = clf.predict(xtest)\n",
        "# Making the Confusion Matrix \n",
        "result = confusion_matrix(ytest, y_pred)\n",
        "print(\"Confusion Matrix of Decision Tree:\")\n",
        "print(result)\n",
        "#Calculating the accuracy\n",
        "resultDT = accuracy_score(ytest,y_pred)*100\n",
        "print(\"Accuracy of Decision Tree (in %) :\",resultDT)"
      ],
      "execution_count": null,
      "outputs": [
        {
          "output_type": "stream",
          "text": [
            "Confusion Matrix of Decision Tree:\n",
            "[[163  10]\n",
            " [  5 166]]\n",
            "Accuracy of Decision Tree (in %) : 95.63953488372093\n"
          ],
          "name": "stdout"
        }
      ]
    },
    {
      "cell_type": "code",
      "metadata": {
        "id": "ASXIRNfeNRc4",
        "outputId": "2dc048c0-a7f9-4a58-8261-2e82bb38ed57"
      },
      "source": [
        "#Random Forest (RF)\n",
        "# Fitting Random Forest to the Training set\n",
        "classifier = RandomForestClassifier(n_estimators = 50)\n",
        "classifier.fit(xtrain, ytrain)\n",
        "# Predicting the Test set results\n",
        "y_pred = classifier.predict(xtest)\n",
        "# Making the Confusion Matrix \n",
        "result = confusion_matrix(ytest, y_pred)\n",
        "print(\"Confusion Matrix of Random Forest:\")\n",
        "print(result)\n",
        "#Calculating the accuracy\n",
        "resultRF = accuracy_score(ytest,y_pred)*100\n",
        "print(\"Accuracy of Random Forest (in %) :\",resultRF)"
      ],
      "execution_count": null,
      "outputs": [
        {
          "output_type": "stream",
          "text": [
            "Confusion Matrix of Random Forest:\n",
            "[[166   7]\n",
            " [  2 169]]\n",
            "Accuracy of Random Forest (in %) : 97.38372093023256\n"
          ],
          "name": "stdout"
        }
      ]
    },
    {
      "cell_type": "code",
      "metadata": {
        "id": "U_p3WZ2ANRc5",
        "outputId": "cd8e01f3-3bca-4ac7-de3c-fff5b0eaa3fb"
      },
      "source": [
        "#Plotting of graph to compare different algorithm\n",
        "# prepare data\n",
        "y=[resultLR,resultSVM,resultknn,resultNB,resultDT,resultRF]\n",
        "x=['LR','SVM','KNN','NB','DT','RF']\n",
        "# prepare plot\n",
        "plt.figure()\n",
        "plt.bar(x,y,color=['violet','blue','green','yellow','orange','red'])\n",
        "#annotations\n",
        "plt.title('Comparison of Different Classification Algorithm')\n",
        "plt.xlabel('Name of Algorithm')\n",
        "plt.ylabel('Accuracy of Different Algorithm')\n",
        "#show plot\n",
        "plt.show()\n"
      ],
      "execution_count": null,
      "outputs": [
        {
          "output_type": "display_data",
          "data": {
            "image/png": "[encoded data removed]",
            "text/plain": [
              "<Figure size 432x288 with 1 Axes>"
            ]
          },
          "metadata": {
            "tags": [],
            "needs_background": "light"
          }
        }
      ]
    },
    {
      "cell_type": "code",
      "metadata": {
        "id": "BiuhvJatNRc6",
        "outputId": "febec640-6cd5-40e4-8f46-bc57f401940e"
      },
      "source": [
        "#To test our faces i.e. the person is wearing mask or not.\n",
        "haar_data = cv2.CascadeClassifier(cv2.data.haarcascades + 'haarcascade_frontalface_default.xml')\n",
        "capture=cv2.VideoCapture(0)\n",
        "data=[]\n",
        "font=cv2.FONT_HERSHEY_COMPLEX\n",
        "while True:\n",
        "    flag,img=capture.read()\n",
        "    if flag:\n",
        "        faces=haar_data.detectMultiScale(img)\n",
        "        for x,y,w,h in faces:\n",
        "            cv2.rectangle(img, (x,y) ,(x+w,y+h),(255,0,255), 4)\n",
        "            face=img[y:y+h,x:x+w, :]\n",
        "            face=cv2.resize(face, (224,224))\n",
        "            face=face.reshape(1,-1)\n",
        "            #pred=classifierlin.predict(face)[0]  # Logistic Regression\n",
        "            #pred=svm.predict(face)[0]            # SVM\n",
        "            #pred=classifierk.predict(face)[0]    # KNN\n",
        "            #pred=classifiern.predict(face)[0]    # Naive BAyes\n",
        "            #pred=clf.predict(face)[0]             # Decision Tree Classification\n",
        "            pred=classifier.predict(face)[0]     # Random Forest\n",
        "            n=names[int(pred)]\n",
        "            cv2.putText(img,n,(x,y),font,1,(244,250,250),2)\n",
        "            print(n)\n",
        "        cv2.imshow('result',img)\n",
        "        #27 - ASCII of Escape key\n",
        "        if cv2.waitKey(2)==27:\n",
        "            break\n",
        "capture.release()\n",
        "cv2.destroyAllWindows()"
      ],
      "execution_count": null,
      "outputs": [
        {
          "output_type": "stream",
          "text": [
            "WITH_MASK\n",
            "WITH_MASK\n",
            "WITHOUT_MASK\n",
            "WITH_MASK\n",
            "WITHOUT_MASK\n",
            "WITH_MASK\n",
            "WITH_MASK\n",
            "WITH_MASK\n",
            "WITH_MASK\n",
            "WITHOUT_MASK\n",
            "WITH_MASK\n",
            "WITH_MASK\n",
            "WITH_MASK\n",
            "WITH_MASK\n",
            "WITH_MASK\n",
            "WITH_MASK\n",
            "WITH_MASK\n",
            "WITH_MASK\n",
            "WITH_MASK\n",
            "WITH_MASK\n",
            "WITH_MASK\n",
            "WITH_MASK\n",
            "WITHOUT_MASK\n",
            "WITHOUT_MASK\n",
            "WITHOUT_MASK\n",
            "WITHOUT_MASK\n",
            "WITHOUT_MASK\n",
            "WITHOUT_MASK\n",
            "WITHOUT_MASK\n",
            "WITHOUT_MASK\n",
            "WITHOUT_MASK\n",
            "WITHOUT_MASK\n",
            "WITHOUT_MASK\n",
            "WITH_MASK\n",
            "WITHOUT_MASK\n",
            "WITH_MASK\n",
            "WITHOUT_MASK\n",
            "WITHOUT_MASK\n",
            "WITHOUT_MASK\n",
            "WITHOUT_MASK\n",
            "WITHOUT_MASK\n",
            "WITH_MASK\n",
            "WITHOUT_MASK\n",
            "WITH_MASK\n",
            "WITHOUT_MASK\n",
            "WITH_MASK\n",
            "WITHOUT_MASK\n",
            "WITH_MASK\n",
            "WITHOUT_MASK\n",
            "WITHOUT_MASK\n",
            "WITHOUT_MASK\n",
            "WITHOUT_MASK\n",
            "WITHOUT_MASK\n",
            "WITHOUT_MASK\n",
            "WITHOUT_MASK\n",
            "WITHOUT_MASK\n",
            "WITHOUT_MASK\n",
            "WITHOUT_MASK\n",
            "WITHOUT_MASK\n",
            "WITHOUT_MASK\n",
            "WITHOUT_MASK\n",
            "WITHOUT_MASK\n",
            "WITHOUT_MASK\n",
            "WITHOUT_MASK\n",
            "WITHOUT_MASK\n",
            "WITHOUT_MASK\n",
            "WITHOUT_MASK\n",
            "WITHOUT_MASK\n",
            "WITHOUT_MASK\n",
            "WITHOUT_MASK\n",
            "WITHOUT_MASK\n",
            "WITHOUT_MASK\n",
            "WITHOUT_MASK\n",
            "WITHOUT_MASK\n",
            "WITHOUT_MASK\n",
            "WITHOUT_MASK\n",
            "WITHOUT_MASK\n",
            "WITHOUT_MASK\n",
            "WITHOUT_MASK\n",
            "WITHOUT_MASK\n",
            "WITHOUT_MASK\n",
            "WITHOUT_MASK\n",
            "WITHOUT_MASK\n",
            "WITHOUT_MASK\n",
            "WITHOUT_MASK\n",
            "WITHOUT_MASK\n",
            "WITHOUT_MASK\n",
            "WITHOUT_MASK\n",
            "WITHOUT_MASK\n",
            "WITHOUT_MASK\n",
            "WITHOUT_MASK\n",
            "WITHOUT_MASK\n",
            "WITHOUT_MASK\n",
            "WITHOUT_MASK\n",
            "WITHOUT_MASK\n",
            "WITHOUT_MASK\n",
            "WITHOUT_MASK\n",
            "WITHOUT_MASK\n",
            "WITHOUT_MASK\n",
            "WITHOUT_MASK\n",
            "WITHOUT_MASK\n",
            "WITHOUT_MASK\n",
            "WITHOUT_MASK\n",
            "WITHOUT_MASK\n",
            "WITHOUT_MASK\n",
            "WITHOUT_MASK\n",
            "WITH_MASK\n",
            "WITHOUT_MASK\n",
            "WITH_MASK\n",
            "WITH_MASK\n",
            "WITHOUT_MASK\n",
            "WITHOUT_MASK\n",
            "WITHOUT_MASK\n",
            "WITH_MASK\n",
            "WITH_MASK\n",
            "WITH_MASK\n",
            "WITH_MASK\n",
            "WITH_MASK\n",
            "WITHOUT_MASK\n",
            "WITHOUT_MASK\n",
            "WITHOUT_MASK\n",
            "WITHOUT_MASK\n",
            "WITHOUT_MASK\n",
            "WITHOUT_MASK\n",
            "WITHOUT_MASK\n",
            "WITHOUT_MASK\n",
            "WITHOUT_MASK\n",
            "WITHOUT_MASK\n"
          ],
          "name": "stdout"
        }
      ]
    },
    {
      "cell_type": "code",
      "metadata": {
        "id": "F_9dla-_NRc8",
        "outputId": "21474a88-db99-4b1f-f568-993d65a06543"
      },
      "source": [
        "'''=========================================================================================================================='''"
      ],
      "execution_count": null,
      "outputs": [
        {
          "output_type": "execute_result",
          "data": {
            "text/plain": [
              "'=========================================================================================================================='"
            ]
          },
          "metadata": {
            "tags": []
          },
          "execution_count": 41
        }
      ]
    }
  ]
}